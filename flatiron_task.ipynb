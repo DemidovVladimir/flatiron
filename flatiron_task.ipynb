{
 "cells": [
  {
   "cell_type": "code",
   "execution_count": 320,
   "metadata": {},
   "outputs": [],
   "source": [
    "import itertools\n",
    "import collections\n",
    "\n",
    "'''\n",
    "this are global vars only for the coding interview, usually that should be passed as an arguments via cli\n",
    "for example with argparse: https://realpython.com/command-line-interfaces-python-argparse/\n",
    "'''\n",
    "illnesses = ['person1, melonoma', 'person2, sarcoma', 'person3, sarcoma', 'person4, sarcoma']\n",
    "drugs = ['person1, drug1', 'person2, drug2', 'person3, drug3', 'person3, drug2', 'person4, drug3']\n",
    "domains = ['melonoma, drug1', 'drug2, drug3, sarcoma', 'sarcoma, drug3']\n",
    "\n",
    "\n",
    "'''\n",
    "Not very efficient solution it is O^2 algorithm as there are twise nested loops\n",
    "'''\n",
    "def colocation(illnesses, drugs, domains):\n",
    "    '''\n",
    "    person_spec will store data in this way: {'person1: [drug1, melanoma]'}\n",
    "    \n",
    "    domains_list will use nested list insstead of nested string: instead of \n",
    "    ['melonoma, drug1', 'drug2, sarcoma] it will use the structure\n",
    "    [['melanoma', 'drug1'], ['drug2', 'sarcoma']]\n",
    "    \n",
    "    result is the expected output of the function: [['person1'], ['person2', 'person3', 'person4'], ['person4']]\n",
    "    '''\n",
    "    person_spec = collections.defaultdict(list)\n",
    "    domains_list = []\n",
    "    result = []\n",
    "    for _ in range(len(domains)):\n",
    "        result.append([])\n",
    "    \n",
    "    for i in illnesses:\n",
    "        ill_with = i.split(', ')\n",
    "        for v in ill_with:\n",
    "            if v != ill_with[0]:\n",
    "                person_spec[ill_with[0]].append(v)\n",
    "                \n",
    "    for i in drugs:\n",
    "        drugs_with = i.split(', ')\n",
    "        for v in drugs_with:\n",
    "            if v != drugs_with[0]:\n",
    "                person_spec[drugs_with[0]].append(v)\n",
    "                \n",
    "    for domain in domains:\n",
    "        domains_list.append(list(domain.split(', ')))\n",
    "        \n",
    "    for k,v in person_spec.items():\n",
    "        counter = 0\n",
    "        for d in domains_list:\n",
    "            check = all(item in d for item in v)\n",
    "            if check:\n",
    "                result[counter].append(k)\n",
    "            counter += 1\n",
    "                \n",
    "    print(result)\n"
   ]
  },
  {
   "cell_type": "code",
   "execution_count": 321,
   "metadata": {},
   "outputs": [
    {
     "name": "stdout",
     "output_type": "stream",
     "text": [
      "[['person1'], ['person2', 'person3', 'person4'], ['person4']]\n"
     ]
    }
   ],
   "source": [
    "colocation(illnesses, drugs, domains)"
   ]
  },
  {
   "cell_type": "code",
   "execution_count": null,
   "metadata": {},
   "outputs": [],
   "source": []
  },
  {
   "cell_type": "code",
   "execution_count": null,
   "metadata": {},
   "outputs": [],
   "source": []
  },
  {
   "cell_type": "code",
   "execution_count": null,
   "metadata": {},
   "outputs": [],
   "source": []
  }
 ],
 "metadata": {
  "kernelspec": {
   "display_name": "Python 3",
   "language": "python",
   "name": "python3"
  },
  "language_info": {
   "codemirror_mode": {
    "name": "ipython",
    "version": 3
   },
   "file_extension": ".py",
   "mimetype": "text/x-python",
   "name": "python",
   "nbconvert_exporter": "python",
   "pygments_lexer": "ipython3",
   "version": "3.8.5"
  }
 },
 "nbformat": 4,
 "nbformat_minor": 4
}
